{
 "cells": [
  {
   "cell_type": "code",
   "execution_count": 320,
   "metadata": {},
   "outputs": [],
   "source": [
    "import pandas as pd\n",
    "import numpy as np\n",
    "import statsmodels.api as sm\n",
    "pd.set_option('display.max_columns', None)"
   ]
  },
  {
   "cell_type": "code",
   "execution_count": 321,
   "metadata": {},
   "outputs": [],
   "source": [
    "### prepare data\n",
    "df_t = pd.read_excel('data.xlsx')\n",
    "df_t.columns = df_t.columns.str.strip()\n",
    "# random value\n",
    "# new_df = pd.DataFrame({col: np.random.choice(df[col], size=500) for col in df.columns})"
   ]
  },
  {
   "cell_type": "code",
   "execution_count": 322,
   "metadata": {},
   "outputs": [],
   "source": [
    "df = df_t\n",
    "df = df.iloc[57:]"
   ]
  },
  {
   "cell_type": "markdown",
   "metadata": {},
   "source": [
    "### clean data"
   ]
  },
  {
   "cell_type": "code",
   "execution_count": 323,
   "metadata": {},
   "outputs": [
    {
     "name": "stderr",
     "output_type": "stream",
     "text": [
      "C:\\Users\\chaiyaphonp\\AppData\\Local\\Temp\\ipykernel_17152\\1135786901.py:3: SettingWithCopyWarning: \n",
      "A value is trying to be set on a copy of a slice from a DataFrame.\n",
      "Try using .loc[row_indexer,col_indexer] = value instead\n",
      "\n",
      "See the caveats in the documentation: https://pandas.pydata.org/pandas-docs/stable/user_guide/indexing.html#returning-a-view-versus-a-copy\n",
      "  df['2.1 ในเดือนที่ผ่านมาท่านทานบุฟเฟต์ชาบูกี่ครั้ง'] =  np.select(condition,['1 - 4 ครั้ง','ไม่ได้รับประทานเลย'] , default='มากกว่า 4 ครั้ง')\n",
      "C:\\Users\\chaiyaphonp\\AppData\\Local\\Temp\\ipykernel_17152\\1135786901.py:8: SettingWithCopyWarning: \n",
      "A value is trying to be set on a copy of a slice from a DataFrame.\n",
      "Try using .loc[row_indexer,col_indexer] = value instead\n",
      "\n",
      "See the caveats in the documentation: https://pandas.pydata.org/pandas-docs/stable/user_guide/indexing.html#returning-a-view-versus-a-copy\n",
      "  df['1.4 อายุ'] =  np.select(condition,['21 - 30 ปี','31 - 40 ปี','40 ปีขึ้นไป'],default='ต่ำกว่า 20 ปี')\n",
      "C:\\Users\\chaiyaphonp\\AppData\\Local\\Temp\\ipykernel_17152\\1135786901.py:14: SettingWithCopyWarning: \n",
      "A value is trying to be set on a copy of a slice from a DataFrame.\n",
      "Try using .loc[row_indexer,col_indexer] = value instead\n",
      "\n",
      "See the caveats in the documentation: https://pandas.pydata.org/pandas-docs/stable/user_guide/indexing.html#returning-a-view-versus-a-copy\n",
      "  df['1.6 อาชีพ'] =  np.select(condition,['ข้าราชการ/รัฐวิสาหกิจ','พนักงานบริษัทเอกชน'],default='อื่น')\n",
      "C:\\Users\\chaiyaphonp\\AppData\\Local\\Temp\\ipykernel_17152\\1135786901.py:18: SettingWithCopyWarning: \n",
      "A value is trying to be set on a copy of a slice from a DataFrame.\n",
      "Try using .loc[row_indexer,col_indexer] = value instead\n",
      "\n",
      "See the caveats in the documentation: https://pandas.pydata.org/pandas-docs/stable/user_guide/indexing.html#returning-a-view-versus-a-copy\n",
      "  df['3.1 product_hat'] = (df['3.1 ด้านผลิตภัณฑ์ (product)  [อาหารมีความหลากลาย]']+df['3.1 ด้านผลิตภัณฑ์ (product)  [รสชาติของอาหาร]']+df['3.1 ด้านผลิตภัณฑ์ (product)  [ความสะอาดของอาหาร]'])/3\n",
      "C:\\Users\\chaiyaphonp\\AppData\\Local\\Temp\\ipykernel_17152\\1135786901.py:19: SettingWithCopyWarning: \n",
      "A value is trying to be set on a copy of a slice from a DataFrame.\n",
      "Try using .loc[row_indexer,col_indexer] = value instead\n",
      "\n",
      "See the caveats in the documentation: https://pandas.pydata.org/pandas-docs/stable/user_guide/indexing.html#returning-a-view-versus-a-copy\n",
      "  df['3.2 Price_hat'] = (df['3.2 ด้านราคา (price)  [ราคาที่เหมาะสมกับคุณภาพ]']+df['3.2 ด้านราคา (price)  [ราคาของอาหารเหมาะสมเมื่อเทียบกับร้านอื่น]'])/2\n",
      "C:\\Users\\chaiyaphonp\\AppData\\Local\\Temp\\ipykernel_17152\\1135786901.py:20: SettingWithCopyWarning: \n",
      "A value is trying to be set on a copy of a slice from a DataFrame.\n",
      "Try using .loc[row_indexer,col_indexer] = value instead\n",
      "\n",
      "See the caveats in the documentation: https://pandas.pydata.org/pandas-docs/stable/user_guide/indexing.html#returning-a-view-versus-a-copy\n",
      "  df['3.3 Place_hat'] = (df['3.3 ด้านช่องทางการจัดจำหน่าย (Place)  [เวลาเปิด-ปิดของร้านในการให้บริการ]']+df['3.3 ด้านช่องทางการจัดจำหน่าย (Place)  [ความสะดวกของที่จอดรถ]']+df['3.3 ด้านช่องทางการจัดจำหน่าย (Place)  [ระยะทาง]'])/3\n",
      "C:\\Users\\chaiyaphonp\\AppData\\Local\\Temp\\ipykernel_17152\\1135786901.py:21: SettingWithCopyWarning: \n",
      "A value is trying to be set on a copy of a slice from a DataFrame.\n",
      "Try using .loc[row_indexer,col_indexer] = value instead\n",
      "\n",
      "See the caveats in the documentation: https://pandas.pydata.org/pandas-docs/stable/user_guide/indexing.html#returning-a-view-versus-a-copy\n",
      "  df['3.4 Promotion_hat'] = (df['3.4 ด้านโปรโมชั่น (promotion)  [ส่วนลดหรือโปรโมชั่นส่งเสริมการขายในช่วงเทศกาลต่าง ๆ เช่น เทศกาลขึ้นปีใหม่]']+df['3.4 ด้านโปรโมชั่น (promotion)  [การสื่อสารข้อมูลโปรโมชั่นผ่านช่องทางต่างๆ เช่น YouTube, Facebook, TikTok]']+df['3.4 ด้านโปรโมชั่น (promotion)  [การมอบสิทธิพิเศษกับสมาชิก]'])/3\n",
      "C:\\Users\\chaiyaphonp\\AppData\\Local\\Temp\\ipykernel_17152\\1135786901.py:22: SettingWithCopyWarning: \n",
      "A value is trying to be set on a copy of a slice from a DataFrame.\n",
      "Try using .loc[row_indexer,col_indexer] = value instead\n",
      "\n",
      "See the caveats in the documentation: https://pandas.pydata.org/pandas-docs/stable/user_guide/indexing.html#returning-a-view-versus-a-copy\n",
      "  df['3.5 People_hat'] = (df['3.5 ด้านบุคลากร (people) [พนักงานมี Service Mind ที่ดี]']+df['3.5 ด้านบุคลากร (people) [ความสะอาดในการแต่งกายของพนักงาน]']+df['3.5 ด้านบุคลากร (people) [จำนวนพนักงานมีเพียงพอในการให้บริการ]'])/3\n",
      "C:\\Users\\chaiyaphonp\\AppData\\Local\\Temp\\ipykernel_17152\\1135786901.py:23: SettingWithCopyWarning: \n",
      "A value is trying to be set on a copy of a slice from a DataFrame.\n",
      "Try using .loc[row_indexer,col_indexer] = value instead\n",
      "\n",
      "See the caveats in the documentation: https://pandas.pydata.org/pandas-docs/stable/user_guide/indexing.html#returning-a-view-versus-a-copy\n",
      "  df['3.6 process_hat'] = (df['3.6 ด้านกระบวนการ (process)  [การจัดลำดับคิวการให้บริการลูกค้า]']+df['3.6 ด้านกระบวนการ (process)  [กระบวนการสั่งเครื่องดื่มและอาหาร การรับคำสั่ง และการเสิร์ฟเครื่องดื่มและอาหารตามที่สั่ง]']+df['3.6 ด้านกระบวนการ (process)  [ระยะเวลาในการรออาหาร]'])/3\n",
      "C:\\Users\\chaiyaphonp\\AppData\\Local\\Temp\\ipykernel_17152\\1135786901.py:27: SettingWithCopyWarning: \n",
      "A value is trying to be set on a copy of a slice from a DataFrame.\n",
      "Try using .loc[row_indexer,col_indexer] = value instead\n",
      "\n",
      "See the caveats in the documentation: https://pandas.pydata.org/pandas-docs/stable/user_guide/indexing.html#returning-a-view-versus-a-copy\n",
      "  df['6. กลยุทธ์ส่งเสริมการขายแบบใดที่จะทำให้ท่านทานบุฟเฟต์ชาบู'] =  np.select(condition,['ลดราคา','กลยุทธ์ส่งเสริมการขายไม่มีผลต่อการตัดสินใจเลือกบริโภค'] , default='อื่น ๆ')\n"
     ]
    },
    {
     "data": {
      "text/plain": [
       "array(['ลดราคา', 'กลยุทธ์ส่งเสริมการขายไม่มีผลต่อการตัดสินใจเลือกบริโภค',\n",
       "       'อื่น ๆ'], dtype=object)"
      ]
     },
     "execution_count": 323,
     "metadata": {},
     "output_type": "execute_result"
    }
   ],
   "source": [
    "### 2.1 ในเดือนที่ผ่านมาท่านทานบุฟเฟต์ชาบูกี่ครั้ง\n",
    "condition = [df['2.1 ในเดือนที่ผ่านมาท่านทานบุฟเฟต์ชาบูกี่ครั้ง'].isin(['1-3 ครั้ง','1 - 4 ครั้ง']),df['2.1 ในเดือนที่ผ่านมาท่านทานบุฟเฟต์ชาบูกี่ครั้ง'].isin(['ไม่ได้รับประทานเลย'])]\n",
    "df['2.1 ในเดือนที่ผ่านมาท่านทานบุฟเฟต์ชาบูกี่ครั้ง'] =  np.select(condition,['1 - 4 ครั้ง','ไม่ได้รับประทานเลย'] , default='มากกว่า 4 ครั้ง')\n",
    "df['2.1 ในเดือนที่ผ่านมาท่านทานบุฟเฟต์ชาบูกี่ครั้ง'].unique()\n",
    "\n",
    "### 1.4 อายุ\n",
    "condition = [df['1.4 อายุ'].isin(['21-30 ปี','21 - 30 ปี']),df['1.4 อายุ'].isin(['31-40 ปี','31 - 40 ปี']),df['1.4 อายุ'].isin(['41 - 50 ปี','51 ปีขึ้นไป'])]\n",
    "df['1.4 อายุ'] =  np.select(condition,['21 - 30 ปี','31 - 40 ปี','40 ปีขึ้นไป'],default='ต่ำกว่า 20 ปี')\n",
    "df['1.4 อายุ'].unique()\n",
    "\n",
    "#1.6 อาชีพ\n",
    "condition = [df['1.6 อาชีพ'].isin(['ข้าราชการ/รัฐวิสาหกิจ','พนักงานของรัฐ','พนักงานรัฐ','ลูกจ้างของหน่วยงานรัฐ','ลูกจ้างชั่วคราว ภาครัฐ','ลูกจ้างหน่วยงานรัฐ','ลูกจ้างหน่วยงานราชการ','ลูกจ้างในหน่วยงานราชการ '])\n",
    "             ,df['1.6 อาชีพ'].isin(['พนักงานบริษัทเอกชน'])]\n",
    "df['1.6 อาชีพ'] =  np.select(condition,['ข้าราชการ/รัฐวิสาหกิจ','พนักงานบริษัทเอกชน'],default='อื่น')\n",
    "df['1.6 อาชีพ'].unique()\n",
    "\n",
    "### หัวข้อ 3\n",
    "df['3.1 product_hat'] = (df['3.1 ด้านผลิตภัณฑ์ (product)  [อาหารมีความหลากลาย]']+df['3.1 ด้านผลิตภัณฑ์ (product)  [รสชาติของอาหาร]']+df['3.1 ด้านผลิตภัณฑ์ (product)  [ความสะอาดของอาหาร]'])/3\n",
    "df['3.2 Price_hat'] = (df['3.2 ด้านราคา (price)  [ราคาที่เหมาะสมกับคุณภาพ]']+df['3.2 ด้านราคา (price)  [ราคาของอาหารเหมาะสมเมื่อเทียบกับร้านอื่น]'])/2\n",
    "df['3.3 Place_hat'] = (df['3.3 ด้านช่องทางการจัดจำหน่าย (Place)  [เวลาเปิด-ปิดของร้านในการให้บริการ]']+df['3.3 ด้านช่องทางการจัดจำหน่าย (Place)  [ความสะดวกของที่จอดรถ]']+df['3.3 ด้านช่องทางการจัดจำหน่าย (Place)  [ระยะทาง]'])/3\n",
    "df['3.4 Promotion_hat'] = (df['3.4 ด้านโปรโมชั่น (promotion)  [ส่วนลดหรือโปรโมชั่นส่งเสริมการขายในช่วงเทศกาลต่าง ๆ เช่น เทศกาลขึ้นปีใหม่]']+df['3.4 ด้านโปรโมชั่น (promotion)  [การสื่อสารข้อมูลโปรโมชั่นผ่านช่องทางต่างๆ เช่น YouTube, Facebook, TikTok]']+df['3.4 ด้านโปรโมชั่น (promotion)  [การมอบสิทธิพิเศษกับสมาชิก]'])/3\n",
    "df['3.5 People_hat'] = (df['3.5 ด้านบุคลากร (people) [พนักงานมี Service Mind ที่ดี]']+df['3.5 ด้านบุคลากร (people) [ความสะอาดในการแต่งกายของพนักงาน]']+df['3.5 ด้านบุคลากร (people) [จำนวนพนักงานมีเพียงพอในการให้บริการ]'])/3\n",
    "df['3.6 process_hat'] = (df['3.6 ด้านกระบวนการ (process)  [การจัดลำดับคิวการให้บริการลูกค้า]']+df['3.6 ด้านกระบวนการ (process)  [กระบวนการสั่งเครื่องดื่มและอาหาร การรับคำสั่ง และการเสิร์ฟเครื่องดื่มและอาหารตามที่สั่ง]']+df['3.6 ด้านกระบวนการ (process)  [ระยะเวลาในการรออาหาร]'])/3\n",
    "\n",
    "### 16. กลยุทธ์ส่งเสริมการขายแบบใดที่จะทำให้ท่านทานบุฟเฟต์ชาบู\n",
    "condition = [df['6. กลยุทธ์ส่งเสริมการขายแบบใดที่จะทำให้ท่านทานบุฟเฟต์ชาบู'].isin(['ลดราคา']),df['6. กลยุทธ์ส่งเสริมการขายแบบใดที่จะทำให้ท่านทานบุฟเฟต์ชาบู'].isin(['กลยุทธ์ส่งเสริมการขายไม่มีผลต่อการตัดสินใจเลือกบริโภค'])]\n",
    "df['6. กลยุทธ์ส่งเสริมการขายแบบใดที่จะทำให้ท่านทานบุฟเฟต์ชาบู'] =  np.select(condition,['ลดราคา','กลยุทธ์ส่งเสริมการขายไม่มีผลต่อการตัดสินใจเลือกบริโภค'] , default='อื่น ๆ')\n",
    "df['6. กลยุทธ์ส่งเสริมการขายแบบใดที่จะทำให้ท่านทานบุฟเฟต์ชาบู'].unique()"
   ]
  },
  {
   "cell_type": "code",
   "execution_count": 215,
   "metadata": {},
   "outputs": [],
   "source": [
    "# df.to_excel('data_adjust2.xlsx', index  = False)"
   ]
  },
  {
   "cell_type": "markdown",
   "metadata": {},
   "source": [
    "### MNlogit model"
   ]
  },
  {
   "cell_type": "code",
   "execution_count": 324,
   "metadata": {},
   "outputs": [
    {
     "name": "stdout",
     "output_type": "stream",
     "text": [
      "Warning: Maximum number of iterations has been exceeded.\n",
      "         Current function value: 1.355177\n",
      "         Iterations: 35\n",
      "                                                 MNLogit Regression Results                                                 \n",
      "============================================================================================================================\n",
      "Dep. Variable:     5. หากให้ท่านเลือกรับประทานบุฟเฟต์ชาบูได้ 1 แบบ\n",
      "ท่านจะเลือกแบบใด   No. Observations:                  176\n",
      "Model:                                                                      MNLogit   Df Residuals:                      132\n",
      "Method:                                                                         MLE   Df Model:                           40\n",
      "Date:                                                              Sat, 27 Apr 2024   Pseudo R-squ.:                 0.08632\n",
      "Time:                                                                      17:29:26   Log-Likelihood:                -238.51\n",
      "converged:                                                                    False   LL-Null:                       -261.05\n",
      "Covariance Type:                                                          nonrobust   LLR p-value:                    0.2682\n",
      "==========================================================================================================================================================================================================================================================\n",
      "                                   5. หากให้ท่านเลือกรับประทานบุฟเฟต์ชาบูได้ 1 แบบ\n",
      "ท่านจะเลือกแบบใด=Set B (ราคา 399/คน) : เพิ่มจาก Set 269 ดังนี้ ปลาซาบะชิลิ เนื้อโหนกโคขุน ปลาดอลลี่       coef    std err          z      P>|z|      [0.025      0.975]\n",
      "----------------------------------------------------------------------------------------------------------------------------------------------------------------------------------------------------------------------------------------------------------\n",
      "1.3 เพศ_หญิง                                                                                                                                                                              -0.2343      0.526     -0.445      0.656      -1.266       0.798\n",
      "1.4 อายุ_31 - 40 ปี                                                                                                                                                                        0.5731      0.534      1.074      0.283      -0.473       1.619\n",
      "1.4 อายุ_40 ปีขึ้นไป                                                                                                                                                                       0.9263      1.047      0.884      0.377      -1.127       2.979\n",
      "1.4 อายุ_ต่ำกว่า 20 ปี                                                                                                                                                                    -0.8612      1.298     -0.664      0.507      -3.405       1.682\n",
      "1.5 รายได้เฉลี่ยต่อเดือน_12,000 - 15,000 บาท                                                                                                                                               0.2857      0.712      0.401      0.688      -1.110       1.681\n",
      "1.5 รายได้เฉลี่ยต่อเดือน_15,001 - 35,000 บาท                                                                                                                                              -0.4355      0.528     -0.825      0.409      -1.470       0.599\n",
      "1.5 รายได้เฉลี่ยต่อเดือน_35,001 - 50,000 บาท                                                                                                                                              -1.5507      0.951     -1.631      0.103      -3.414       0.313\n",
      "1.5 รายได้เฉลี่ยต่อเดือน_50,001 - 100,000 บาท                                                                                                                                            -21.7532   2.27e+04     -0.001      0.999   -4.45e+04    4.44e+04\n",
      "1.5 รายได้เฉลี่ยต่อเดือน_น้อยกว่า 12,000 บาท                                                                                                                                              -1.1484      0.998     -1.150      0.250      -3.105       0.809\n",
      "1.6 อาชีพ_พนักงานบริษัทเอกชน                                                                                                                                                              -0.0914      0.588     -0.155      0.876      -1.244       1.061\n",
      "1.6 อาชีพ_อื่น                                                                                                                                                                             0.2224      0.615      0.361      0.718      -0.983       1.428\n",
      "----------------------------------------------------------------------------------------------------------------------------------------------------------------------------------------------------------------------------------------------------------\n",
      "5. หากให้ท่านเลือกรับประทานบุฟเฟต์ชาบูได้ 1 แบบ\n",
      "ท่านจะเลือกแบบใด=Set C (ราคา 499/คน) : เพิ่มจาก Set 399 ดังนี้ แซลมอนนอร์เวย์ ปลาหมึกกล้วยชิลี ปลาไข่ เนื้อสันคอออสเตรเลีย ซูชิ       coef    std err          z      P>|z|      [0.025      0.975]\n",
      "---------------------------------------------------------------------------------------------------------------------------------------------------------------------------------------------------------------------------------------------------\n",
      "1.3 เพศ_หญิง                                                                                                                                                                       -0.0786      0.473     -0.166      0.868      -1.005       0.848\n",
      "1.4 อายุ_31 - 40 ปี                                                                                                                                                                 0.7941      0.485      1.636      0.102      -0.157       1.745\n",
      "1.4 อายุ_40 ปีขึ้นไป                                                                                                                                                                1.5155      0.820      1.849      0.064      -0.091       3.122\n",
      "1.4 อายุ_ต่ำกว่า 20 ปี                                                                                                                                                              0.7695      1.011      0.761      0.447      -1.213       2.752\n",
      "1.5 รายได้เฉลี่ยต่อเดือน_12,000 - 15,000 บาท                                                                                                                                       -0.3435      0.710     -0.483      0.629      -1.736       1.049\n",
      "1.5 รายได้เฉลี่ยต่อเดือน_15,001 - 35,000 บาท                                                                                                                                       -0.4253      0.490     -0.867      0.386      -1.386       0.536\n",
      "1.5 รายได้เฉลี่ยต่อเดือน_35,001 - 50,000 บาท                                                                                                                                       -0.9321      0.725     -1.286      0.198      -2.352       0.488\n",
      "1.5 รายได้เฉลี่ยต่อเดือน_50,001 - 100,000 บาท                                                                                                                                      -0.8155      0.900     -0.906      0.365      -2.580       0.949\n",
      "1.5 รายได้เฉลี่ยต่อเดือน_น้อยกว่า 12,000 บาท                                                                                                                                       -0.7549      0.853     -0.885      0.376      -2.426       0.916\n",
      "1.6 อาชีพ_พนักงานบริษัทเอกชน                                                                                                                                                        0.1825      0.498      0.366      0.714      -0.794       1.159\n",
      "1.6 อาชีพ_อื่น                                                                                                                                                                     -0.1502      0.629     -0.239      0.811      -1.383       1.082\n",
      "---------------------------------------------------------------------------------------------------------------------------------------------------------------------------------------------------------------------------------------------------\n",
      "5. หากให้ท่านเลือกรับประทานบุฟเฟต์ชาบูได้ 1 แบบ\n",
      "ท่านจะเลือกแบบใด=Set D (ราคา 599/คน) : เพิ่มจาก Set 499 ดังนี้ กุ้งแม่น้ำ หอยนิวซีแลนด์ เนื้อแกะนิวซีแลนด์ เนื้อน่องลายโคขุน เทมปุระ       coef    std err          z      P>|z|      [0.025      0.975]\n",
      "--------------------------------------------------------------------------------------------------------------------------------------------------------------------------------------------------------------------------------------------------------\n",
      "1.3 เพศ_หญิง                                                                                                                                                                             0.1462      0.507      0.288      0.773      -0.848       1.141\n",
      "1.4 อายุ_31 - 40 ปี                                                                                                                                                                      0.8295      0.521      1.591      0.112      -0.192       1.851\n",
      "1.4 อายุ_40 ปีขึ้นไป                                                                                                                                                                     1.8660      0.811      2.302      0.021       0.277       3.455\n",
      "1.4 อายุ_ต่ำกว่า 20 ปี                                                                                                                                                                  -0.4277      1.309     -0.327      0.744      -2.994       2.139\n",
      "1.5 รายได้เฉลี่ยต่อเดือน_12,000 - 15,000 บาท                                                                                                                                            -2.1860      0.899     -2.432      0.015      -3.948      -0.424\n",
      "1.5 รายได้เฉลี่ยต่อเดือน_15,001 - 35,000 บาท                                                                                                                                            -1.3753      0.559     -2.462      0.014      -2.470      -0.280\n",
      "1.5 รายได้เฉลี่ยต่อเดือน_35,001 - 50,000 บาท                                                                                                                                            -1.2413      0.717     -1.731      0.084      -2.647       0.165\n",
      "1.5 รายได้เฉลี่ยต่อเดือน_50,001 - 100,000 บาท                                                                                                                                           -1.6968      0.953     -1.780      0.075      -3.565       0.171\n",
      "1.5 รายได้เฉลี่ยต่อเดือน_น้อยกว่า 12,000 บาท                                                                                                                                            -2.4479      1.027     -2.384      0.017      -4.461      -0.435\n",
      "1.6 อาชีพ_พนักงานบริษัทเอกชน                                                                                                                                                             0.7412      0.540      1.372      0.170      -0.318       1.800\n",
      "1.6 อาชีพ_อื่น                                                                                                                                                                           1.3650      0.623      2.192      0.028       0.145       2.585\n",
      "--------------------------------------------------------------------------------------------------------------------------------------------------------------------------------------------------------------------------------------------------------\n",
      "5. หากให้ท่านเลือกรับประทานบุฟเฟต์ชาบูได้ 1 แบบ\n",
      "ท่านจะเลือกแบบใด=Set E (ราคา 1,272/คน) : เพิ่มจาก Set 599 ดังนี้ เนื้อระดับพรีเมี่ยม กุ้งเด้งทรัฟเฟิล เนื้อปลาจินดาระ ปลาไหลย่างซีอิ๊ว       coef    std err          z      P>|z|      [0.025      0.975]\n",
      "----------------------------------------------------------------------------------------------------------------------------------------------------------------------------------------------------------------------------------------------------------\n",
      "1.3 เพศ_หญิง                                                                                                                                                                               0.8143      1.091      0.747      0.455      -1.323       2.952\n",
      "1.4 อายุ_31 - 40 ปี                                                                                                                                                                       -0.7587      1.155     -0.657      0.511      -3.023       1.506\n",
      "1.4 อายุ_40 ปีขึ้นไป                                                                                                                                                                     -64.8635   1.24e+14  -5.21e-13      1.000   -2.44e+14    2.44e+14\n",
      "1.4 อายุ_ต่ำกว่า 20 ปี                                                                                                                                                                     1.7470      1.839      0.950      0.342      -1.857       5.351\n",
      "1.5 รายได้เฉลี่ยต่อเดือน_12,000 - 15,000 บาท                                                                                                                                              -3.9749      1.774     -2.241      0.025      -7.452      -0.498\n",
      "1.5 รายได้เฉลี่ยต่อเดือน_15,001 - 35,000 บาท                                                                                                                                              -2.8081      1.139     -2.466      0.014      -5.040      -0.576\n",
      "1.5 รายได้เฉลี่ยต่อเดือน_35,001 - 50,000 บาท                                                                                                                                              -2.6521      1.380     -1.922      0.055      -5.356       0.052\n",
      "1.5 รายได้เฉลี่ยต่อเดือน_50,001 - 100,000 บาท                                                                                                                                            -28.5654   5.68e+05  -5.02e-05      1.000   -1.11e+06    1.11e+06\n",
      "1.5 รายได้เฉลี่ยต่อเดือน_น้อยกว่า 12,000 บาท                                                                                                                                             -23.0869    1.7e+04     -0.001      0.999   -3.34e+04    3.34e+04\n",
      "1.6 อาชีพ_พนักงานบริษัทเอกชน                                                                                                                                                               1.0235      0.982      1.042      0.297      -0.901       2.948\n",
      "1.6 อาชีพ_อื่น                                                                                                                                                                             0.5834      1.316      0.443      0.658      -1.996       3.163\n",
      "==========================================================================================================================================================================================================================================================\n"
     ]
    },
    {
     "name": "stderr",
     "output_type": "stream",
     "text": [
      "c:\\Anaconda 3\\Lib\\site-packages\\statsmodels\\base\\model.py:607: ConvergenceWarning: Maximum Likelihood optimization failed to converge. Check mle_retvals\n",
      "  warnings.warn(\"Maximum Likelihood optimization failed to \"\n"
     ]
    }
   ],
   "source": [
    "col_y = ['5. หากให้ท่านเลือกรับประทานบุฟเฟต์ชาบูได้ 1 แบบ\\nท่านจะเลือกแบบใด']\n",
    "# col_y =[ '1.3 เพศ','1.4 อายุ', '1.5 รายได้เฉลี่ยต่อเดือน', '1.6 อาชีพ' ,'2.1 ในเดือนที่ผ่านมาท่านทานบุฟเฟต์ชาบูกี่ครั้ง','2.2 เหตุผลใดที่ทำให้ท่านเลือกที่จะรับประทานบุฟเฟต์ชาบู'\n",
    "#         ,'2.3 ส่วนใหญ่ท่านรับประทานบุฟเฟต์ชาบูกับใคร','2.4 โดยส่วนใหญ่ราคาบุฟเฟต์ชาบูต่อหัวที่ท่านเลือกรับประทานอยู่ที่เท่าไร']\n",
    "col_x =[ '3.1 product_hat' ,'3.2 Price_hat' ,'3.3 Place_hat' ,'3.4 Promotion_hat' ,'3.5 People_hat' ,'3.6 process_hat']\n",
    "col_x_dummy = ['1.3 เพศ','1.4 อายุ', '1.5 รายได้เฉลี่ยต่อเดือน', '1.6 อาชีพ' ]\n",
    "y = df[col_y]\n",
    "x = df[col_x]\n",
    "x_dummy = df[col_x_dummy]\n",
    "y = y[~y.isnull().any(axis=1)]\n",
    "x = x[~x.isnull().any(axis=1)]\n",
    "x_dummy = x_dummy[~x_dummy.isnull().any(axis=1)]\n",
    "# y = new_df[col_x]\n",
    "# x = new_df[col_y]\n",
    "# for clean data\n",
    "# y = pd.get_dummies(y,dtype=float)\n",
    "# y.drop(['1.1 ท่านเคยรับประทานบุปเฟต์ชาบูหรือไม่_ไม่เคย'],axis=1,inplace=True)\n",
    "x_dummy = pd.get_dummies(x_dummy,dtype=float,drop_first=True)\n",
    "x = pd.concat([x, x_dummy],axis = 1)\n",
    "# x = sm.add_constant(x)\n",
    "# MNlogit model\n",
    "model = sm.MNLogit(y, x_dummy)\n",
    "result = model.fit()\n",
    "print(result.summary())"
   ]
  },
  {
   "cell_type": "code",
   "execution_count": 325,
   "metadata": {},
   "outputs": [],
   "source": [
    "coef = pd.DataFrame(data=result.params)\n",
    "coef.rename(columns = {0:'coef_B',1:'coef_C',2:'coef_D',3:'coef_E'}, inplace = True)\n",
    "P_value = pd.DataFrame(data=result.pvalues)\n",
    "P_value.rename(columns = {0:'P_value_B',1:'P_value_C',2:'P_value_D',3:'P_value_E'}, inplace = True)"
   ]
  },
  {
   "cell_type": "code",
   "execution_count": 326,
   "metadata": {},
   "outputs": [],
   "source": [
    "all = pd.concat([coef, P_value],axis = 1)"
   ]
  },
  {
   "cell_type": "code",
   "execution_count": 328,
   "metadata": {},
   "outputs": [],
   "source": [
    "all.to_excel('result.xlsx')"
   ]
  },
  {
   "cell_type": "markdown",
   "metadata": {},
   "source": [
    "## olslogit"
   ]
  },
  {
   "cell_type": "code",
   "execution_count": null,
   "metadata": {},
   "outputs": [
    {
     "data": {
      "text/plain": [
       "2.1 ในเดือนที่ผ่านมาท่านทานบุฟเฟต์ชาบูกี่ครั้ง\n",
       "0     50\n",
       "1    140\n",
       "2     10\n",
       "dtype: int64"
      ]
     },
     "execution_count": 12,
     "metadata": {},
     "output_type": "execute_result"
    }
   ],
   "source": [
    "df.groupby(['2.1 ในเดือนที่ผ่านมาท่านทานบุฟเฟต์ชาบูกี่ครั้ง']).size()"
   ]
  },
  {
   "cell_type": "code",
   "execution_count": null,
   "metadata": {},
   "outputs": [
    {
     "ename": "ValueError",
     "evalue": "endog must be in the unit interval.",
     "output_type": "error",
     "traceback": [
      "\u001b[1;31m---------------------------------------------------------------------------\u001b[0m",
      "\u001b[1;31mValueError\u001b[0m                                Traceback (most recent call last)",
      "Cell \u001b[1;32mIn[50], line 15\u001b[0m\n\u001b[0;32m     13\u001b[0m x \u001b[38;5;241m=\u001b[39m pd\u001b[38;5;241m.\u001b[39mget_dummies(x,dtype\u001b[38;5;241m=\u001b[39m\u001b[38;5;28mfloat\u001b[39m,drop_first\u001b[38;5;241m=\u001b[39m\u001b[38;5;28;01mTrue\u001b[39;00m)\n\u001b[0;32m     14\u001b[0m \u001b[38;5;66;03m# MNlogit model\u001b[39;00m\n\u001b[1;32m---> 15\u001b[0m model \u001b[38;5;241m=\u001b[39m sm\u001b[38;5;241m.\u001b[39mLogit(y, x)\n\u001b[0;32m     16\u001b[0m result \u001b[38;5;241m=\u001b[39m model\u001b[38;5;241m.\u001b[39mfit()\n\u001b[0;32m     17\u001b[0m \u001b[38;5;28mprint\u001b[39m(result\u001b[38;5;241m.\u001b[39msummary())\n",
      "File \u001b[1;32mc:\\Anaconda 3\\Lib\\site-packages\\statsmodels\\discrete\\discrete_model.py:479\u001b[0m, in \u001b[0;36mBinaryModel.__init__\u001b[1;34m(self, endog, exog, offset, check_rank, **kwargs)\u001b[0m\n\u001b[0;32m    477\u001b[0m \u001b[38;5;28;01mif\u001b[39;00m \u001b[38;5;129;01mnot\u001b[39;00m \u001b[38;5;28missubclass\u001b[39m(\u001b[38;5;28mself\u001b[39m\u001b[38;5;241m.\u001b[39m\u001b[38;5;18m__class__\u001b[39m, MultinomialModel):\n\u001b[0;32m    478\u001b[0m     \u001b[38;5;28;01mif\u001b[39;00m \u001b[38;5;129;01mnot\u001b[39;00m np\u001b[38;5;241m.\u001b[39mall((\u001b[38;5;28mself\u001b[39m\u001b[38;5;241m.\u001b[39mendog \u001b[38;5;241m>\u001b[39m\u001b[38;5;241m=\u001b[39m \u001b[38;5;241m0\u001b[39m) \u001b[38;5;241m&\u001b[39m (\u001b[38;5;28mself\u001b[39m\u001b[38;5;241m.\u001b[39mendog \u001b[38;5;241m<\u001b[39m\u001b[38;5;241m=\u001b[39m \u001b[38;5;241m1\u001b[39m)):\n\u001b[1;32m--> 479\u001b[0m         \u001b[38;5;28;01mraise\u001b[39;00m \u001b[38;5;167;01mValueError\u001b[39;00m(\u001b[38;5;124m\"\u001b[39m\u001b[38;5;124mendog must be in the unit interval.\u001b[39m\u001b[38;5;124m\"\u001b[39m)\n\u001b[0;32m    481\u001b[0m \u001b[38;5;28;01mif\u001b[39;00m offset \u001b[38;5;129;01mis\u001b[39;00m \u001b[38;5;28;01mNone\u001b[39;00m:\n\u001b[0;32m    482\u001b[0m     \u001b[38;5;28mdelattr\u001b[39m(\u001b[38;5;28mself\u001b[39m, \u001b[38;5;124m'\u001b[39m\u001b[38;5;124moffset\u001b[39m\u001b[38;5;124m'\u001b[39m)\n",
      "\u001b[1;31mValueError\u001b[0m: endog must be in the unit interval."
     ]
    }
   ],
   "source": [
    "## define y,x variable\n",
    "col_x = ['2.1 ในเดือนที่ผ่านมาท่านทานบุฟเฟต์ชาบูกี่ครั้ง']\n",
    "# col_y =[ '1.3 เพศ','1.4 อายุ', '1.5 รายได้เฉลี่ยต่อเดือน', '1.6 อาชีพ' ,'2.1 ในเดือนที่ผ่านมาท่านทานบุฟเฟต์ชาบูกี่ครั้ง','2.2 เหตุผลใดที่ทำให้ท่านเลือกที่จะรับประทานบุฟเฟต์ชาบู'\n",
    "#         ,'2.3 ส่วนใหญ่ท่านรับประทานบุฟเฟต์ชาบูกับใคร','2.4 โดยส่วนใหญ่ราคาบุฟเฟต์ชาบูต่อหัวที่ท่านเลือกรับประทานอยู่ที่เท่าไร']\n",
    "col_y =[ '1.3 เพศ','1.4 อายุ', '1.5 รายได้เฉลี่ยต่อเดือน', '1.6 อาชีพ']\n",
    "y = df[col_x]\n",
    "x = df[col_y]\n",
    "# y = new_df[col_x]\n",
    "# x = new_df[col_y]\n",
    "# for clean data\n",
    "# y = pd.get_dummies(y,dtype=float)\n",
    "# y.drop(['1.1 ท่านเคยรับประทานบุปเฟต์ชาบูหรือไม่_ไม่เคย'],axis=1,inplace=True)\n",
    "x = pd.get_dummies(x,dtype=float,drop_first=True)\n",
    "# MNlogit model\n",
    "model = sm.Logit(y, x)\n",
    "result = model.fit()\n",
    "print(result.summary())"
   ]
  }
 ],
 "metadata": {
  "kernelspec": {
   "display_name": "base",
   "language": "python",
   "name": "python3"
  },
  "language_info": {
   "codemirror_mode": {
    "name": "ipython",
    "version": 3
   },
   "file_extension": ".py",
   "mimetype": "text/x-python",
   "name": "python",
   "nbconvert_exporter": "python",
   "pygments_lexer": "ipython3",
   "version": "3.11.5"
  }
 },
 "nbformat": 4,
 "nbformat_minor": 2
}
