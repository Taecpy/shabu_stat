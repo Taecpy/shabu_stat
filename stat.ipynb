{
 "cells": [
  {
   "cell_type": "code",
   "execution_count": 23,
   "metadata": {},
   "outputs": [
    {
     "ename": "ImportError",
     "evalue": "cannot import name 'OrderedModel' from 'statsmodels.discrete.discrete_model' (c:\\Anaconda 3\\Lib\\site-packages\\statsmodels\\discrete\\discrete_model.py)",
     "output_type": "error",
     "traceback": [
      "\u001b[1;31m---------------------------------------------------------------------------\u001b[0m",
      "\u001b[1;31mImportError\u001b[0m                               Traceback (most recent call last)",
      "Cell \u001b[1;32mIn[23], line 5\u001b[0m\n\u001b[0;32m      3\u001b[0m \u001b[38;5;28;01mimport\u001b[39;00m \u001b[38;5;21;01mstatsmodels\u001b[39;00m\u001b[38;5;21;01m.\u001b[39;00m\u001b[38;5;21;01mapi\u001b[39;00m \u001b[38;5;28;01mas\u001b[39;00m \u001b[38;5;21;01msm\u001b[39;00m\n\u001b[0;32m      4\u001b[0m \u001b[38;5;28;01mimport\u001b[39;00m \u001b[38;5;21;01mpickle\u001b[39;00m\n\u001b[1;32m----> 5\u001b[0m \u001b[38;5;28;01mfrom\u001b[39;00m \u001b[38;5;21;01mstatsmodels\u001b[39;00m\u001b[38;5;21;01m.\u001b[39;00m\u001b[38;5;21;01mdiscrete\u001b[39;00m\u001b[38;5;21;01m.\u001b[39;00m\u001b[38;5;21;01mdiscrete_model\u001b[39;00m \u001b[38;5;28;01mimport\u001b[39;00m OrderedModel\n\u001b[0;32m      6\u001b[0m pd\u001b[38;5;241m.\u001b[39mset_option(\u001b[38;5;124m'\u001b[39m\u001b[38;5;124mdisplay.max_columns\u001b[39m\u001b[38;5;124m'\u001b[39m, \u001b[38;5;28;01mNone\u001b[39;00m)\n",
      "\u001b[1;31mImportError\u001b[0m: cannot import name 'OrderedModel' from 'statsmodels.discrete.discrete_model' (c:\\Anaconda 3\\Lib\\site-packages\\statsmodels\\discrete\\discrete_model.py)"
     ]
    }
   ],
   "source": [
    "import pandas as pd\n",
    "import numpy as np\n",
    "import statsmodels.api as sm\n",
    "import pickle\n",
    "pd.set_option('display.max_columns', None)"
   ]
  },
  {
   "cell_type": "code",
   "execution_count": 3,
   "metadata": {},
   "outputs": [],
   "source": [
    "### prepare data\n",
    "df_t = pd.read_excel('data.xlsx')\n",
    "df_t.columns = df_t.columns.str.strip()\n",
    "# random value\n",
    "# new_df = pd.DataFrame({col: np.random.choice(df[col], size=500) for col in df.columns})"
   ]
  },
  {
   "cell_type": "code",
   "execution_count": 4,
   "metadata": {},
   "outputs": [],
   "source": [
    "df = df_t\n",
    "df = df.iloc[57:]"
   ]
  },
  {
   "cell_type": "markdown",
   "metadata": {},
   "source": [
    "### save or load model"
   ]
  },
  {
   "cell_type": "code",
   "execution_count": null,
   "metadata": {},
   "outputs": [],
   "source": [
    "### save model\n",
    "with open('MNlogit.pkl', 'wb') as f:  # ใช้ 'wb' เพื่อใช้โหมด binary\n",
    "    pickle.dump(MNLogit, f)\n",
    "### load model\n",
    "with open('MNlogit.pkl', 'rb') as f:  # ใช้ 'rb' เพื่อใช้โหมด binary\n",
    "    loaded_model = pickle.load(f)"
   ]
  },
  {
   "cell_type": "markdown",
   "metadata": {},
   "source": [
    "### clean data"
   ]
  },
  {
   "cell_type": "code",
   "execution_count": 5,
   "metadata": {},
   "outputs": [
    {
     "name": "stderr",
     "output_type": "stream",
     "text": [
      "C:\\Users\\chaiyaphonp\\AppData\\Local\\Temp\\ipykernel_11816\\1135786901.py:3: SettingWithCopyWarning: \n",
      "A value is trying to be set on a copy of a slice from a DataFrame.\n",
      "Try using .loc[row_indexer,col_indexer] = value instead\n",
      "\n",
      "See the caveats in the documentation: https://pandas.pydata.org/pandas-docs/stable/user_guide/indexing.html#returning-a-view-versus-a-copy\n",
      "  df['2.1 ในเดือนที่ผ่านมาท่านทานบุฟเฟต์ชาบูกี่ครั้ง'] =  np.select(condition,['1 - 4 ครั้ง','ไม่ได้รับประทานเลย'] , default='มากกว่า 4 ครั้ง')\n",
      "C:\\Users\\chaiyaphonp\\AppData\\Local\\Temp\\ipykernel_11816\\1135786901.py:8: SettingWithCopyWarning: \n",
      "A value is trying to be set on a copy of a slice from a DataFrame.\n",
      "Try using .loc[row_indexer,col_indexer] = value instead\n",
      "\n",
      "See the caveats in the documentation: https://pandas.pydata.org/pandas-docs/stable/user_guide/indexing.html#returning-a-view-versus-a-copy\n",
      "  df['1.4 อายุ'] =  np.select(condition,['21 - 30 ปี','31 - 40 ปี','40 ปีขึ้นไป'],default='ต่ำกว่า 20 ปี')\n",
      "C:\\Users\\chaiyaphonp\\AppData\\Local\\Temp\\ipykernel_11816\\1135786901.py:14: SettingWithCopyWarning: \n",
      "A value is trying to be set on a copy of a slice from a DataFrame.\n",
      "Try using .loc[row_indexer,col_indexer] = value instead\n",
      "\n",
      "See the caveats in the documentation: https://pandas.pydata.org/pandas-docs/stable/user_guide/indexing.html#returning-a-view-versus-a-copy\n",
      "  df['1.6 อาชีพ'] =  np.select(condition,['ข้าราชการ/รัฐวิสาหกิจ','พนักงานบริษัทเอกชน'],default='อื่น')\n",
      "C:\\Users\\chaiyaphonp\\AppData\\Local\\Temp\\ipykernel_11816\\1135786901.py:18: SettingWithCopyWarning: \n",
      "A value is trying to be set on a copy of a slice from a DataFrame.\n",
      "Try using .loc[row_indexer,col_indexer] = value instead\n",
      "\n",
      "See the caveats in the documentation: https://pandas.pydata.org/pandas-docs/stable/user_guide/indexing.html#returning-a-view-versus-a-copy\n",
      "  df['3.1 product_hat'] = (df['3.1 ด้านผลิตภัณฑ์ (product)  [อาหารมีความหลากลาย]']+df['3.1 ด้านผลิตภัณฑ์ (product)  [รสชาติของอาหาร]']+df['3.1 ด้านผลิตภัณฑ์ (product)  [ความสะอาดของอาหาร]'])/3\n",
      "C:\\Users\\chaiyaphonp\\AppData\\Local\\Temp\\ipykernel_11816\\1135786901.py:19: SettingWithCopyWarning: \n",
      "A value is trying to be set on a copy of a slice from a DataFrame.\n",
      "Try using .loc[row_indexer,col_indexer] = value instead\n",
      "\n",
      "See the caveats in the documentation: https://pandas.pydata.org/pandas-docs/stable/user_guide/indexing.html#returning-a-view-versus-a-copy\n",
      "  df['3.2 Price_hat'] = (df['3.2 ด้านราคา (price)  [ราคาที่เหมาะสมกับคุณภาพ]']+df['3.2 ด้านราคา (price)  [ราคาของอาหารเหมาะสมเมื่อเทียบกับร้านอื่น]'])/2\n",
      "C:\\Users\\chaiyaphonp\\AppData\\Local\\Temp\\ipykernel_11816\\1135786901.py:20: SettingWithCopyWarning: \n",
      "A value is trying to be set on a copy of a slice from a DataFrame.\n",
      "Try using .loc[row_indexer,col_indexer] = value instead\n",
      "\n",
      "See the caveats in the documentation: https://pandas.pydata.org/pandas-docs/stable/user_guide/indexing.html#returning-a-view-versus-a-copy\n",
      "  df['3.3 Place_hat'] = (df['3.3 ด้านช่องทางการจัดจำหน่าย (Place)  [เวลาเปิด-ปิดของร้านในการให้บริการ]']+df['3.3 ด้านช่องทางการจัดจำหน่าย (Place)  [ความสะดวกของที่จอดรถ]']+df['3.3 ด้านช่องทางการจัดจำหน่าย (Place)  [ระยะทาง]'])/3\n",
      "C:\\Users\\chaiyaphonp\\AppData\\Local\\Temp\\ipykernel_11816\\1135786901.py:21: SettingWithCopyWarning: \n",
      "A value is trying to be set on a copy of a slice from a DataFrame.\n",
      "Try using .loc[row_indexer,col_indexer] = value instead\n",
      "\n",
      "See the caveats in the documentation: https://pandas.pydata.org/pandas-docs/stable/user_guide/indexing.html#returning-a-view-versus-a-copy\n",
      "  df['3.4 Promotion_hat'] = (df['3.4 ด้านโปรโมชั่น (promotion)  [ส่วนลดหรือโปรโมชั่นส่งเสริมการขายในช่วงเทศกาลต่าง ๆ เช่น เทศกาลขึ้นปีใหม่]']+df['3.4 ด้านโปรโมชั่น (promotion)  [การสื่อสารข้อมูลโปรโมชั่นผ่านช่องทางต่างๆ เช่น YouTube, Facebook, TikTok]']+df['3.4 ด้านโปรโมชั่น (promotion)  [การมอบสิทธิพิเศษกับสมาชิก]'])/3\n",
      "C:\\Users\\chaiyaphonp\\AppData\\Local\\Temp\\ipykernel_11816\\1135786901.py:22: SettingWithCopyWarning: \n",
      "A value is trying to be set on a copy of a slice from a DataFrame.\n",
      "Try using .loc[row_indexer,col_indexer] = value instead\n",
      "\n",
      "See the caveats in the documentation: https://pandas.pydata.org/pandas-docs/stable/user_guide/indexing.html#returning-a-view-versus-a-copy\n",
      "  df['3.5 People_hat'] = (df['3.5 ด้านบุคลากร (people) [พนักงานมี Service Mind ที่ดี]']+df['3.5 ด้านบุคลากร (people) [ความสะอาดในการแต่งกายของพนักงาน]']+df['3.5 ด้านบุคลากร (people) [จำนวนพนักงานมีเพียงพอในการให้บริการ]'])/3\n",
      "C:\\Users\\chaiyaphonp\\AppData\\Local\\Temp\\ipykernel_11816\\1135786901.py:23: SettingWithCopyWarning: \n",
      "A value is trying to be set on a copy of a slice from a DataFrame.\n",
      "Try using .loc[row_indexer,col_indexer] = value instead\n",
      "\n",
      "See the caveats in the documentation: https://pandas.pydata.org/pandas-docs/stable/user_guide/indexing.html#returning-a-view-versus-a-copy\n",
      "  df['3.6 process_hat'] = (df['3.6 ด้านกระบวนการ (process)  [การจัดลำดับคิวการให้บริการลูกค้า]']+df['3.6 ด้านกระบวนการ (process)  [กระบวนการสั่งเครื่องดื่มและอาหาร การรับคำสั่ง และการเสิร์ฟเครื่องดื่มและอาหารตามที่สั่ง]']+df['3.6 ด้านกระบวนการ (process)  [ระยะเวลาในการรออาหาร]'])/3\n",
      "C:\\Users\\chaiyaphonp\\AppData\\Local\\Temp\\ipykernel_11816\\1135786901.py:27: SettingWithCopyWarning: \n",
      "A value is trying to be set on a copy of a slice from a DataFrame.\n",
      "Try using .loc[row_indexer,col_indexer] = value instead\n",
      "\n",
      "See the caveats in the documentation: https://pandas.pydata.org/pandas-docs/stable/user_guide/indexing.html#returning-a-view-versus-a-copy\n",
      "  df['6. กลยุทธ์ส่งเสริมการขายแบบใดที่จะทำให้ท่านทานบุฟเฟต์ชาบู'] =  np.select(condition,['ลดราคา','กลยุทธ์ส่งเสริมการขายไม่มีผลต่อการตัดสินใจเลือกบริโภค'] , default='อื่น ๆ')\n"
     ]
    },
    {
     "data": {
      "text/plain": [
       "array(['ลดราคา', 'กลยุทธ์ส่งเสริมการขายไม่มีผลต่อการตัดสินใจเลือกบริโภค',\n",
       "       'อื่น ๆ'], dtype=object)"
      ]
     },
     "execution_count": 5,
     "metadata": {},
     "output_type": "execute_result"
    }
   ],
   "source": [
    "### 2.1 ในเดือนที่ผ่านมาท่านทานบุฟเฟต์ชาบูกี่ครั้ง\n",
    "condition = [df['2.1 ในเดือนที่ผ่านมาท่านทานบุฟเฟต์ชาบูกี่ครั้ง'].isin(['1-3 ครั้ง','1 - 4 ครั้ง']),df['2.1 ในเดือนที่ผ่านมาท่านทานบุฟเฟต์ชาบูกี่ครั้ง'].isin(['ไม่ได้รับประทานเลย'])]\n",
    "df['2.1 ในเดือนที่ผ่านมาท่านทานบุฟเฟต์ชาบูกี่ครั้ง'] =  np.select(condition,['1 - 4 ครั้ง','ไม่ได้รับประทานเลย'] , default='มากกว่า 4 ครั้ง')\n",
    "df['2.1 ในเดือนที่ผ่านมาท่านทานบุฟเฟต์ชาบูกี่ครั้ง'].unique()\n",
    "\n",
    "### 1.4 อายุ\n",
    "condition = [df['1.4 อายุ'].isin(['21-30 ปี','21 - 30 ปี']),df['1.4 อายุ'].isin(['31-40 ปี','31 - 40 ปี']),df['1.4 อายุ'].isin(['41 - 50 ปี','51 ปีขึ้นไป'])]\n",
    "df['1.4 อายุ'] =  np.select(condition,['21 - 30 ปี','31 - 40 ปี','40 ปีขึ้นไป'],default='ต่ำกว่า 20 ปี')\n",
    "df['1.4 อายุ'].unique()\n",
    "\n",
    "#1.6 อาชีพ\n",
    "condition = [df['1.6 อาชีพ'].isin(['ข้าราชการ/รัฐวิสาหกิจ','พนักงานของรัฐ','พนักงานรัฐ','ลูกจ้างของหน่วยงานรัฐ','ลูกจ้างชั่วคราว ภาครัฐ','ลูกจ้างหน่วยงานรัฐ','ลูกจ้างหน่วยงานราชการ','ลูกจ้างในหน่วยงานราชการ '])\n",
    "             ,df['1.6 อาชีพ'].isin(['พนักงานบริษัทเอกชน'])]\n",
    "df['1.6 อาชีพ'] =  np.select(condition,['ข้าราชการ/รัฐวิสาหกิจ','พนักงานบริษัทเอกชน'],default='อื่น')\n",
    "df['1.6 อาชีพ'].unique()\n",
    "\n",
    "### หัวข้อ 3\n",
    "df['3.1 product_hat'] = (df['3.1 ด้านผลิตภัณฑ์ (product)  [อาหารมีความหลากลาย]']+df['3.1 ด้านผลิตภัณฑ์ (product)  [รสชาติของอาหาร]']+df['3.1 ด้านผลิตภัณฑ์ (product)  [ความสะอาดของอาหาร]'])/3\n",
    "df['3.2 Price_hat'] = (df['3.2 ด้านราคา (price)  [ราคาที่เหมาะสมกับคุณภาพ]']+df['3.2 ด้านราคา (price)  [ราคาของอาหารเหมาะสมเมื่อเทียบกับร้านอื่น]'])/2\n",
    "df['3.3 Place_hat'] = (df['3.3 ด้านช่องทางการจัดจำหน่าย (Place)  [เวลาเปิด-ปิดของร้านในการให้บริการ]']+df['3.3 ด้านช่องทางการจัดจำหน่าย (Place)  [ความสะดวกของที่จอดรถ]']+df['3.3 ด้านช่องทางการจัดจำหน่าย (Place)  [ระยะทาง]'])/3\n",
    "df['3.4 Promotion_hat'] = (df['3.4 ด้านโปรโมชั่น (promotion)  [ส่วนลดหรือโปรโมชั่นส่งเสริมการขายในช่วงเทศกาลต่าง ๆ เช่น เทศกาลขึ้นปีใหม่]']+df['3.4 ด้านโปรโมชั่น (promotion)  [การสื่อสารข้อมูลโปรโมชั่นผ่านช่องทางต่างๆ เช่น YouTube, Facebook, TikTok]']+df['3.4 ด้านโปรโมชั่น (promotion)  [การมอบสิทธิพิเศษกับสมาชิก]'])/3\n",
    "df['3.5 People_hat'] = (df['3.5 ด้านบุคลากร (people) [พนักงานมี Service Mind ที่ดี]']+df['3.5 ด้านบุคลากร (people) [ความสะอาดในการแต่งกายของพนักงาน]']+df['3.5 ด้านบุคลากร (people) [จำนวนพนักงานมีเพียงพอในการให้บริการ]'])/3\n",
    "df['3.6 process_hat'] = (df['3.6 ด้านกระบวนการ (process)  [การจัดลำดับคิวการให้บริการลูกค้า]']+df['3.6 ด้านกระบวนการ (process)  [กระบวนการสั่งเครื่องดื่มและอาหาร การรับคำสั่ง และการเสิร์ฟเครื่องดื่มและอาหารตามที่สั่ง]']+df['3.6 ด้านกระบวนการ (process)  [ระยะเวลาในการรออาหาร]'])/3\n",
    "\n",
    "### 16. กลยุทธ์ส่งเสริมการขายแบบใดที่จะทำให้ท่านทานบุฟเฟต์ชาบู\n",
    "condition = [df['6. กลยุทธ์ส่งเสริมการขายแบบใดที่จะทำให้ท่านทานบุฟเฟต์ชาบู'].isin(['ลดราคา']),df['6. กลยุทธ์ส่งเสริมการขายแบบใดที่จะทำให้ท่านทานบุฟเฟต์ชาบู'].isin(['กลยุทธ์ส่งเสริมการขายไม่มีผลต่อการตัดสินใจเลือกบริโภค'])]\n",
    "df['6. กลยุทธ์ส่งเสริมการขายแบบใดที่จะทำให้ท่านทานบุฟเฟต์ชาบู'] =  np.select(condition,['ลดราคา','กลยุทธ์ส่งเสริมการขายไม่มีผลต่อการตัดสินใจเลือกบริโภค'] , default='อื่น ๆ')\n",
    "df['6. กลยุทธ์ส่งเสริมการขายแบบใดที่จะทำให้ท่านทานบุฟเฟต์ชาบู'].unique()"
   ]
  },
  {
   "cell_type": "code",
   "execution_count": 15,
   "metadata": {},
   "outputs": [
    {
     "name": "stderr",
     "output_type": "stream",
     "text": [
      "C:\\Users\\chaiyaphonp\\AppData\\Local\\Temp\\ipykernel_20656\\1685574391.py:2: SettingWithCopyWarning: \n",
      "A value is trying to be set on a copy of a slice from a DataFrame\n",
      "\n",
      "See the caveats in the documentation: https://pandas.pydata.org/pandas-docs/stable/user_guide/indexing.html#returning-a-view-versus-a-copy\n",
      "  df.rename(columns={col:'x_{}'.format(i)},inplace=True)\n"
     ]
    }
   ],
   "source": [
    "# col_name = df.columns\n",
    "# for col,i in zip(col_name,range(0,len(col_name))):\n",
    "#     df.rename(columns={col:'x_{}'.format(i)},inplace=True)\n",
    "#     n = pd.DataFrame(data={'var':df.columns,'col_name':col_name})\n",
    "\n",
    "# with pd.ExcelWriter(\"data_adjust3.xlsx\") as writer:\n",
    "   \n",
    "#     # use to_excel function and specify the sheet_name and index \n",
    "#     # to store the dataframe in specified sheet\n",
    "#     df.to_excel(writer, sheet_name=\"data\", index=False)\n",
    "#     n.to_excel(writer, sheet_name=\"col_name\", index=False)    "
   ]
  },
  {
   "cell_type": "markdown",
   "metadata": {},
   "source": [
    "### MNlogit model"
   ]
  },
  {
   "cell_type": "code",
   "execution_count": 64,
   "metadata": {},
   "outputs": [
    {
     "name": "stdout",
     "output_type": "stream",
     "text": [
      "Warning: Maximum number of iterations has been exceeded.\n",
      "         Current function value: 1.308141\n",
      "         Iterations: 35\n",
      "                                                 MNLogit Regression Results                                                 \n",
      "============================================================================================================================\n",
      "Dep. Variable:     5. หากให้ท่านเลือกรับประทานบุฟเฟต์ชาบูได้ 1 แบบ\n",
      "ท่านจะเลือกแบบใด   No. Observations:                  176\n",
      "Model:                                                                      MNLogit   Df Residuals:                      108\n",
      "Method:                                                                         MLE   Df Model:                           64\n",
      "Date:                                                              Tue, 30 Apr 2024   Pseudo R-squ.:                  0.1180\n",
      "Time:                                                                      10:29:45   Log-Likelihood:                -230.23\n",
      "converged:                                                                    False   LL-Null:                       -261.05\n",
      "Covariance Type:                                                          nonrobust   LLR p-value:                    0.5610\n",
      "==========================================================================================================================================================================================================================================================\n",
      "                                   5. หากให้ท่านเลือกรับประทานบุฟเฟต์ชาบูได้ 1 แบบ\n",
      "ท่านจะเลือกแบบใด=Set B (ราคา 399/คน) : เพิ่มจาก Set 269 ดังนี้ ปลาซาบะชิลิ เนื้อโหนกโคขุน ปลาดอลลี่       coef    std err          z      P>|z|      [0.025      0.975]\n",
      "----------------------------------------------------------------------------------------------------------------------------------------------------------------------------------------------------------------------------------------------------------\n",
      "3.1 product_hat                                                                                                                                                                            0.2992      0.549      0.545      0.586      -0.777       1.375\n",
      "3.2 Price_hat                                                                                                                                                                             -0.8298      0.456     -1.821      0.069      -1.723       0.063\n",
      "3.3 Place_hat                                                                                                                                                                             -0.3409      0.425     -0.802      0.423      -1.174       0.493\n",
      "3.4 Promotion_hat                                                                                                                                                                          0.2088      0.363      0.576      0.565      -0.502       0.920\n",
      "3.5 People_hat                                                                                                                                                                            -0.1514      0.516     -0.294      0.769      -1.162       0.859\n",
      "3.6 process_hat                                                                                                                                                                            0.4954      0.609      0.814      0.416      -0.697       1.688\n",
      "1.3 เพศ_หญิง                                                                                                                                                                              -0.3440      0.568     -0.605      0.545      -1.458       0.770\n",
      "1.4 อายุ_21 - 30 ปี                                                                                                                                                                        0.7615      1.172      0.650      0.516      -1.535       3.059\n",
      "1.4 อายุ_31 - 40 ปี                                                                                                                                                                        1.3386      1.245      1.075      0.282      -1.101       3.779\n",
      "1.4 อายุ_40 ปีขึ้นไป                                                                                                                                                                       1.5009      1.568      0.957      0.338      -1.572       4.574\n",
      "1.5 รายได้เฉลี่ยต่อเดือน_100,000 บาทขึ้นไป                                                                                                                                                 0.3693      1.745      0.212      0.832      -3.051       3.790\n",
      "1.5 รายได้เฉลี่ยต่อเดือน_12,000 - 15,000 บาท                                                                                                                                               1.1602      1.014      1.144      0.252      -0.827       3.147\n",
      "1.5 รายได้เฉลี่ยต่อเดือน_15,001 - 35,000 บาท                                                                                                                                               0.5161      0.964      0.535      0.593      -1.374       2.406\n",
      "1.5 รายได้เฉลี่ยต่อเดือน_35,001 - 50,000 บาท                                                                                                                                              -0.5718      1.263     -0.453      0.651      -3.048       1.904\n",
      "1.5 รายได้เฉลี่ยต่อเดือน_50,001 - 100,000 บาท                                                                                                                                            -22.2598    4.7e+04     -0.000      1.000   -9.21e+04    9.21e+04\n",
      "1.6 อาชีพ_ข้าราชการ/รัฐวิสาหกิจ                                                                                                                                                           -0.0773      0.643     -0.120      0.904      -1.337       1.182\n",
      "1.6 อาชีพ_พนักงานบริษัทเอกชน                                                                                                                                                              -0.2980      0.756     -0.394      0.694      -1.780       1.184\n",
      "----------------------------------------------------------------------------------------------------------------------------------------------------------------------------------------------------------------------------------------------------------\n",
      "5. หากให้ท่านเลือกรับประทานบุฟเฟต์ชาบูได้ 1 แบบ\n",
      "ท่านจะเลือกแบบใด=Set C (ราคา 499/คน) : เพิ่มจาก Set 399 ดังนี้ แซลมอนนอร์เวย์ ปลาหมึกกล้วยชิลี ปลาไข่ เนื้อสันคอออสเตรเลีย ซูชิ       coef    std err          z      P>|z|      [0.025      0.975]\n",
      "---------------------------------------------------------------------------------------------------------------------------------------------------------------------------------------------------------------------------------------------------\n",
      "3.1 product_hat                                                                                                                                                                     0.0115      0.531      0.022      0.983      -1.028       1.051\n",
      "3.2 Price_hat                                                                                                                                                                      -1.0671      0.432     -2.470      0.014      -1.914      -0.220\n",
      "3.3 Place_hat                                                                                                                                                                      -0.1362      0.406     -0.335      0.737      -0.932       0.660\n",
      "3.4 Promotion_hat                                                                                                                                                                   0.4143      0.336      1.232      0.218      -0.245       1.073\n",
      "3.5 People_hat                                                                                                                                                                      0.3029      0.551      0.550      0.582      -0.776       1.382\n",
      "3.6 process_hat                                                                                                                                                                     0.5821      0.579      1.005      0.315      -0.553       1.718\n",
      "1.3 เพศ_หญิง                                                                                                                                                                       -0.3696      0.527     -0.701      0.483      -1.403       0.664\n",
      "1.4 อายุ_21 - 30 ปี                                                                                                                                                                -0.7348      1.026     -0.716      0.474      -2.746       1.276\n",
      "1.4 อายุ_31 - 40 ปี                                                                                                                                                                 0.0896      1.089      0.082      0.934      -2.046       2.225\n",
      "1.4 อายุ_40 ปีขึ้นไป                                                                                                                                                                0.5065      1.334      0.380      0.704      -2.108       3.121\n",
      "1.5 รายได้เฉลี่ยต่อเดือน_100,000 บาทขึ้นไป                                                                                                                                         -0.7958      1.733     -0.459      0.646      -4.193       2.601\n",
      "1.5 รายได้เฉลี่ยต่อเดือน_12,000 - 15,000 บาท                                                                                                                                       -0.0891      0.910     -0.098      0.922      -1.873       1.695\n",
      "1.5 รายได้เฉลี่ยต่อเดือน_15,001 - 35,000 บาท                                                                                                                                       -0.0022      0.846     -0.003      0.998      -1.660       1.656\n",
      "1.5 รายได้เฉลี่ยต่อเดือน_35,001 - 50,000 บาท                                                                                                                                       -0.5077      1.006     -0.505      0.614      -2.479       1.463\n",
      "1.5 รายได้เฉลี่ยต่อเดือน_50,001 - 100,000 บาท                                                                                                                                      -0.0847      1.180     -0.072      0.943      -2.398       2.228\n",
      "1.6 อาชีพ_ข้าราชการ/รัฐวิสาหกิจ                                                                                                                                                     0.3127      0.677      0.462      0.644      -1.015       1.640\n",
      "1.6 อาชีพ_พนักงานบริษัทเอกชน                                                                                                                                                        0.4185      0.730      0.574      0.566      -1.012       1.849\n",
      "---------------------------------------------------------------------------------------------------------------------------------------------------------------------------------------------------------------------------------------------------\n",
      "5. หากให้ท่านเลือกรับประทานบุฟเฟต์ชาบูได้ 1 แบบ\n",
      "ท่านจะเลือกแบบใด=Set D (ราคา 599/คน) : เพิ่มจาก Set 499 ดังนี้ กุ้งแม่น้ำ หอยนิวซีแลนด์ เนื้อแกะนิวซีแลนด์ เนื้อน่องลายโคขุน เทมปุระ       coef    std err          z      P>|z|      [0.025      0.975]\n",
      "--------------------------------------------------------------------------------------------------------------------------------------------------------------------------------------------------------------------------------------------------------\n",
      "3.1 product_hat                                                                                                                                                                         -0.6088      0.547     -1.113      0.266      -1.681       0.463\n",
      "3.2 Price_hat                                                                                                                                                                           -0.2703      0.453     -0.597      0.551      -1.158       0.618\n",
      "3.3 Place_hat                                                                                                                                                                           -0.0863      0.425     -0.203      0.839      -0.920       0.747\n",
      "3.4 Promotion_hat                                                                                                                                                                        0.2940      0.354      0.831      0.406      -0.399       0.987\n",
      "3.5 People_hat                                                                                                                                                                           0.1443      0.535      0.270      0.787      -0.903       1.192\n",
      "3.6 process_hat                                                                                                                                                                          0.3314      0.608      0.545      0.586      -0.860       1.523\n",
      "1.3 เพศ_หญิง                                                                                                                                                                             0.0499      0.556      0.090      0.929      -1.040       1.140\n",
      "1.4 อายุ_21 - 30 ปี                                                                                                                                                                      0.1051      1.184      0.089      0.929      -2.216       2.427\n",
      "1.4 อายุ_31 - 40 ปี                                                                                                                                                                      0.9968      1.224      0.814      0.415      -1.402       3.395\n",
      "1.4 อายุ_40 ปีขึ้นไป                                                                                                                                                                     1.9369      1.430      1.355      0.176      -0.866       4.740\n",
      "1.5 รายได้เฉลี่ยต่อเดือน_100,000 บาทขึ้นไป                                                                                                                                               1.4537      1.621      0.897      0.370      -1.723       4.631\n",
      "1.5 รายได้เฉลี่ยต่อเดือน_12,000 - 15,000 บาท                                                                                                                                             0.1530      1.147      0.133      0.894      -2.095       2.401\n",
      "1.5 รายได้เฉลี่ยต่อเดือน_15,001 - 35,000 บาท                                                                                                                                             1.1324      1.016      1.114      0.265      -0.860       3.124\n",
      "1.5 รายได้เฉลี่ยต่อเดือน_35,001 - 50,000 บาท                                                                                                                                             1.1485      1.096      1.048      0.295      -0.999       3.296\n",
      "1.5 รายได้เฉลี่ยต่อเดือน_50,001 - 100,000 บาท                                                                                                                                            0.8515      1.303      0.653      0.513      -1.702       3.405\n",
      "1.6 อาชีพ_ข้าราชการ/รัฐวิสาหกิจ                                                                                                                                                         -1.4450      0.673     -2.148      0.032      -2.764      -0.126\n",
      "1.6 อาชีพ_พนักงานบริษัทเอกชน                                                                                                                                                            -0.6120      0.672     -0.911      0.362      -1.928       0.704\n",
      "--------------------------------------------------------------------------------------------------------------------------------------------------------------------------------------------------------------------------------------------------------\n",
      "5. หากให้ท่านเลือกรับประทานบุฟเฟต์ชาบูได้ 1 แบบ\n",
      "ท่านจะเลือกแบบใด=Set E (ราคา 1,272/คน) : เพิ่มจาก Set 599 ดังนี้ เนื้อระดับพรีเมี่ยม กุ้งเด้งทรัฟเฟิล เนื้อปลาจินดาระ ปลาไหลย่างซีอิ๊ว       coef    std err          z      P>|z|      [0.025      0.975]\n",
      "----------------------------------------------------------------------------------------------------------------------------------------------------------------------------------------------------------------------------------------------------------\n",
      "3.1 product_hat                                                                                                                                                                           -1.5203      1.182     -1.286      0.198      -3.838       0.797\n",
      "3.2 Price_hat                                                                                                                                                                             -0.2219      0.934     -0.238      0.812      -2.052       1.609\n",
      "3.3 Place_hat                                                                                                                                                                              0.1607      0.764      0.210      0.833      -1.336       1.657\n",
      "3.4 Promotion_hat                                                                                                                                                                         -0.3079      0.629     -0.490      0.624      -1.541       0.925\n",
      "3.5 People_hat                                                                                                                                                                            -0.1235      1.069     -0.116      0.908      -2.218       1.971\n",
      "3.6 process_hat                                                                                                                                                                            0.8644      1.440      0.600      0.548      -1.958       3.687\n",
      "1.3 เพศ_หญิง                                                                                                                                                                               1.3930      1.403      0.993      0.321      -1.356       4.142\n",
      "1.4 อายุ_21 - 30 ปี                                                                                                                                                                       -2.1002      1.892     -1.110      0.267      -5.808       1.607\n",
      "1.4 อายุ_31 - 40 ปี                                                                                                                                                                       -2.4482      2.155     -1.136      0.256      -6.673       1.776\n",
      "1.4 อายุ_40 ปีขึ้นไป                                                                                                                                                                     -21.4125   3.08e+04     -0.001      0.999   -6.03e+04    6.03e+04\n",
      "1.5 รายได้เฉลี่ยต่อเดือน_100,000 บาทขึ้นไป                                                                                                                                               -24.8996   8.52e+06  -2.92e-06      1.000   -1.67e+07    1.67e+07\n",
      "1.5 รายได้เฉลี่ยต่อเดือน_12,000 - 15,000 บาท                                                                                                                                               3.4668      4.734      0.732      0.464      -5.812      12.746\n",
      "1.5 รายได้เฉลี่ยต่อเดือน_15,001 - 35,000 บาท                                                                                                                                               4.8987      4.791      1.023      0.307      -4.491      14.288\n",
      "1.5 รายได้เฉลี่ยต่อเดือน_35,001 - 50,000 บาท                                                                                                                                               4.9427      4.855      1.018      0.309      -4.572      14.457\n",
      "1.5 รายได้เฉลี่ยต่อเดือน_50,001 - 100,000 บาท                                                                                                                                            -19.6275   1.64e+05     -0.000      1.000   -3.21e+05    3.21e+05\n",
      "1.6 อาชีพ_ข้าราชการ/รัฐวิสาหกิจ                                                                                                                                                           -1.6118      1.649     -0.977      0.328      -4.845       1.621\n",
      "1.6 อาชีพ_พนักงานบริษัทเอกชน                                                                                                                                                               0.3633      1.327      0.274      0.784      -2.238       2.964\n",
      "==========================================================================================================================================================================================================================================================\n"
     ]
    },
    {
     "name": "stderr",
     "output_type": "stream",
     "text": [
      "c:\\Anaconda 3\\Lib\\site-packages\\statsmodels\\base\\model.py:607: ConvergenceWarning: Maximum Likelihood optimization failed to converge. Check mle_retvals\n",
      "  warnings.warn(\"Maximum Likelihood optimization failed to \"\n"
     ]
    }
   ],
   "source": [
    "col_y = ['5. หากให้ท่านเลือกรับประทานบุฟเฟต์ชาบูได้ 1 แบบ\\nท่านจะเลือกแบบใด']\n",
    "# col_y =[ '1.3 เพศ','1.4 อายุ', '1.5 รายได้เฉลี่ยต่อเดือน', '1.6 อาชีพ' ,'2.1 ในเดือนที่ผ่านมาท่านทานบุฟเฟต์ชาบูกี่ครั้ง','2.2 เหตุผลใดที่ทำให้ท่านเลือกที่จะรับประทานบุฟเฟต์ชาบู'\n",
    "#         ,'2.3 ส่วนใหญ่ท่านรับประทานบุฟเฟต์ชาบูกับใคร','2.4 โดยส่วนใหญ่ราคาบุฟเฟต์ชาบูต่อหัวที่ท่านเลือกรับประทานอยู่ที่เท่าไร']\n",
    "col_x =[ '3.1 product_hat' ,'3.2 Price_hat' ,'3.3 Place_hat' ,'3.4 Promotion_hat' ,'3.5 People_hat' ,'3.6 process_hat']\n",
    "col_x_dummy = ['1.3 เพศ','1.4 อายุ', '1.5 รายได้เฉลี่ยต่อเดือน', '1.6 อาชีพ' ]\n",
    "y = df[col_y]\n",
    "x = df[col_x]\n",
    "x_dummy = df[col_x_dummy]\n",
    "# y = y[~y.isnull().any(axis=1)]\n",
    "# x = x[~x.isnull().any(axis=1)]\n",
    "x_dummy = x_dummy[~x_dummy.isnull().any(axis=1)]\n",
    "# y = new_df[col_x]\n",
    "# x = new_df[col_y]\n",
    "# for clean data\n",
    "# y = pd.get_dummies(y,dtype=float)\n",
    "# y.drop(['1.1 ท่านเคยรับประทานบุปเฟต์ชาบูหรือไม่_ไม่เคย'],axis=1,inplace=True)\n",
    "# x_dummy = pd.get_dummies(x_dummy,dtype=float,drop_first=True)\n",
    "x_dummy = pd.get_dummies(x_dummy,dtype=float)\n",
    "x_dummy = x_dummy[['1.3 เพศ_หญิง', '1.4 อายุ_21 - 30 ปี','1.4 อายุ_31 - 40 ปี', '1.4 อายุ_40 ปีขึ้นไป','1.5 รายได้เฉลี่ยต่อเดือน_100,000 บาทขึ้นไป',\n",
    "       '1.5 รายได้เฉลี่ยต่อเดือน_12,000 - 15,000 บาท','1.5 รายได้เฉลี่ยต่อเดือน_15,001 - 35,000 บาท','1.5 รายได้เฉลี่ยต่อเดือน_35,001 - 50,000 บาท',\n",
    "       '1.5 รายได้เฉลี่ยต่อเดือน_50,001 - 100,000 บาท','1.6 อาชีพ_ข้าราชการ/รัฐวิสาหกิจ', '1.6 อาชีพ_พนักงานบริษัทเอกชน']]\n",
    "x = pd.concat([x, x_dummy],axis = 1)\n",
    "# x = sm.add_constant(x)\n",
    "# x_dummy = sm.add_constant(x_dummy)\n",
    "# MNlogit model\n",
    "model = sm.MNLogit(y, x)\n",
    "MNLogit = model.fit()\n",
    "print(MNLogit.summary())"
   ]
  },
  {
   "cell_type": "code",
   "execution_count": 6,
   "metadata": {},
   "outputs": [],
   "source": [
    "coef = pd.DataFrame(data=result.params)\n",
    "coef.rename(columns = {0:'coef_B',1:'coef_C',2:'coef_D',3:'coef_E'}, inplace = True)\n",
    "P_value = pd.DataFrame(data=result.pvalues)\n",
    "P_value.rename(columns = {0:'P_value_B',1:'P_value_C',2:'P_value_D',3:'P_value_E'}, inplace = True)\n",
    "all = pd.concat([P_value, coef],axis = 1)\n",
    "all\n",
    "# all.to_excel('result.xlsx')"
   ]
  },
  {
   "cell_type": "markdown",
   "metadata": {},
   "source": [
    "## OrderedModel"
   ]
  },
  {
   "cell_type": "code",
   "execution_count": 60,
   "metadata": {},
   "outputs": [
    {
     "name": "stderr",
     "output_type": "stream",
     "text": [
      "C:\\Users\\chaiyaphonp\\AppData\\Local\\Temp\\ipykernel_11816\\1703617674.py:12: SettingWithCopyWarning: \n",
      "A value is trying to be set on a copy of a slice from a DataFrame.\n",
      "Try using .loc[row_indexer,col_indexer] = value instead\n",
      "\n",
      "See the caveats in the documentation: https://pandas.pydata.org/pandas-docs/stable/user_guide/indexing.html#returning-a-view-versus-a-copy\n",
      "  y['2.1 ในเดือนที่ผ่านมาท่านทานบุฟเฟต์ชาบูกี่ครั้ง'] = y['2.1 ในเดือนที่ผ่านมาท่านทานบุฟเฟต์ชาบูกี่ครั้ง'].astype(cat_type)\n"
     ]
    },
    {
     "ename": "ValueError",
     "evalue": "Pandas data cast to numpy dtype of object. Check input data with np.asarray(data).",
     "output_type": "error",
     "traceback": [
      "\u001b[1;31m---------------------------------------------------------------------------\u001b[0m",
      "\u001b[1;31mValueError\u001b[0m                                Traceback (most recent call last)",
      "Cell \u001b[1;32mIn[60], line 20\u001b[0m\n\u001b[0;32m     12\u001b[0m y[\u001b[38;5;124m'\u001b[39m\u001b[38;5;124m2.1 ในเดือนที่ผ่านมาท่านทานบุฟเฟต์ชาบูกี่ครั้ง\u001b[39m\u001b[38;5;124m'\u001b[39m] \u001b[38;5;241m=\u001b[39m y[\u001b[38;5;124m'\u001b[39m\u001b[38;5;124m2.1 ในเดือนที่ผ่านมาท่านทานบุฟเฟต์ชาบูกี่ครั้ง\u001b[39m\u001b[38;5;124m'\u001b[39m]\u001b[38;5;241m.\u001b[39mastype(cat_type)\n\u001b[0;32m     13\u001b[0m \u001b[38;5;66;03m# y = new_df[col_x]\u001b[39;00m\n\u001b[0;32m     14\u001b[0m \u001b[38;5;66;03m# x = new_df[col_y]\u001b[39;00m\n\u001b[0;32m     15\u001b[0m \u001b[38;5;66;03m# for clean data\u001b[39;00m\n\u001b[1;32m   (...)\u001b[0m\n\u001b[0;32m     18\u001b[0m \u001b[38;5;66;03m# x = pd.get_dummies(x,dtype=float,drop_first=True)\u001b[39;00m\n\u001b[0;32m     19\u001b[0m \u001b[38;5;66;03m# # MNlogit model\u001b[39;00m\n\u001b[1;32m---> 20\u001b[0m model \u001b[38;5;241m=\u001b[39m OrderedModel(y[\u001b[38;5;124m'\u001b[39m\u001b[38;5;124m2.1 ในเดือนที่ผ่านมาท่านทานบุฟเฟต์ชาบูกี่ครั้ง\u001b[39m\u001b[38;5;124m'\u001b[39m], x,distr\u001b[38;5;241m=\u001b[39m\u001b[38;5;124m'\u001b[39m\u001b[38;5;124mlogit\u001b[39m\u001b[38;5;124m'\u001b[39m)\n",
      "File \u001b[1;32mc:\\Anaconda 3\\Lib\\site-packages\\statsmodels\\miscmodels\\ordinal_model.py:133\u001b[0m, in \u001b[0;36mOrderedModel.__init__\u001b[1;34m(self, endog, exog, offset, distr, **kwds)\u001b[0m\n\u001b[0;32m    129\u001b[0m \u001b[38;5;28mself\u001b[39m\u001b[38;5;241m.\u001b[39moffset \u001b[38;5;241m=\u001b[39m offset\n\u001b[0;32m    131\u001b[0m endog, labels, is_pandas \u001b[38;5;241m=\u001b[39m \u001b[38;5;28mself\u001b[39m\u001b[38;5;241m.\u001b[39m_check_inputs(endog, exog)\n\u001b[1;32m--> 133\u001b[0m \u001b[38;5;28msuper\u001b[39m(OrderedModel, \u001b[38;5;28mself\u001b[39m)\u001b[38;5;241m.\u001b[39m\u001b[38;5;21m__init__\u001b[39m(endog, exog, \u001b[38;5;241m*\u001b[39m\u001b[38;5;241m*\u001b[39mkwds)\n\u001b[0;32m    134\u001b[0m k_levels \u001b[38;5;241m=\u001b[39m \u001b[38;5;28;01mNone\u001b[39;00m  \u001b[38;5;66;03m# initialize\u001b[39;00m\n\u001b[0;32m    135\u001b[0m \u001b[38;5;28;01mif\u001b[39;00m \u001b[38;5;129;01mnot\u001b[39;00m is_pandas:\n",
      "File \u001b[1;32mc:\\Anaconda 3\\Lib\\site-packages\\statsmodels\\base\\model.py:841\u001b[0m, in \u001b[0;36mGenericLikelihoodModel.__init__\u001b[1;34m(self, endog, exog, loglike, score, hessian, missing, extra_params_names, **kwds)\u001b[0m\n\u001b[0;32m    834\u001b[0m \u001b[38;5;28mself\u001b[39m\u001b[38;5;241m.\u001b[39m\u001b[38;5;18m__dict__\u001b[39m\u001b[38;5;241m.\u001b[39mupdate(kwds)\n\u001b[0;32m    836\u001b[0m \u001b[38;5;66;03m# TODO: data structures?\u001b[39;00m\n\u001b[0;32m    837\u001b[0m \n\u001b[0;32m    838\u001b[0m \u001b[38;5;66;03m# TODO temporary solution, force approx normal\u001b[39;00m\n\u001b[0;32m    839\u001b[0m \u001b[38;5;66;03m# self.df_model = 9999\u001b[39;00m\n\u001b[0;32m    840\u001b[0m \u001b[38;5;66;03m# somewhere: CacheWriteWarning: 'df_model' cannot be overwritten\u001b[39;00m\n\u001b[1;32m--> 841\u001b[0m \u001b[38;5;28msuper\u001b[39m(GenericLikelihoodModel, \u001b[38;5;28mself\u001b[39m)\u001b[38;5;241m.\u001b[39m\u001b[38;5;21m__init__\u001b[39m(endog, exog,\n\u001b[0;32m    842\u001b[0m                                              missing\u001b[38;5;241m=\u001b[39mmissing,\n\u001b[0;32m    843\u001b[0m                                              hasconst\u001b[38;5;241m=\u001b[39mhasconst,\n\u001b[0;32m    844\u001b[0m                                              \u001b[38;5;241m*\u001b[39m\u001b[38;5;241m*\u001b[39mkwds\n\u001b[0;32m    845\u001b[0m                                              )\n\u001b[0;32m    847\u001b[0m \u001b[38;5;66;03m# this will not work for ru2nmnl, maybe np.ndim of a dict?\u001b[39;00m\n\u001b[0;32m    848\u001b[0m \u001b[38;5;28;01mif\u001b[39;00m exog \u001b[38;5;129;01mis\u001b[39;00m \u001b[38;5;129;01mnot\u001b[39;00m \u001b[38;5;28;01mNone\u001b[39;00m:\n",
      "File \u001b[1;32mc:\\Anaconda 3\\Lib\\site-packages\\statsmodels\\base\\model.py:270\u001b[0m, in \u001b[0;36mLikelihoodModel.__init__\u001b[1;34m(self, endog, exog, **kwargs)\u001b[0m\n\u001b[0;32m    269\u001b[0m \u001b[38;5;28;01mdef\u001b[39;00m \u001b[38;5;21m__init__\u001b[39m(\u001b[38;5;28mself\u001b[39m, endog, exog\u001b[38;5;241m=\u001b[39m\u001b[38;5;28;01mNone\u001b[39;00m, \u001b[38;5;241m*\u001b[39m\u001b[38;5;241m*\u001b[39mkwargs):\n\u001b[1;32m--> 270\u001b[0m     \u001b[38;5;28msuper\u001b[39m()\u001b[38;5;241m.\u001b[39m\u001b[38;5;21m__init__\u001b[39m(endog, exog, \u001b[38;5;241m*\u001b[39m\u001b[38;5;241m*\u001b[39mkwargs)\n\u001b[0;32m    271\u001b[0m     \u001b[38;5;28mself\u001b[39m\u001b[38;5;241m.\u001b[39minitialize()\n",
      "File \u001b[1;32mc:\\Anaconda 3\\Lib\\site-packages\\statsmodels\\base\\model.py:95\u001b[0m, in \u001b[0;36mModel.__init__\u001b[1;34m(self, endog, exog, **kwargs)\u001b[0m\n\u001b[0;32m     93\u001b[0m missing \u001b[38;5;241m=\u001b[39m kwargs\u001b[38;5;241m.\u001b[39mpop(\u001b[38;5;124m'\u001b[39m\u001b[38;5;124mmissing\u001b[39m\u001b[38;5;124m'\u001b[39m, \u001b[38;5;124m'\u001b[39m\u001b[38;5;124mnone\u001b[39m\u001b[38;5;124m'\u001b[39m)\n\u001b[0;32m     94\u001b[0m hasconst \u001b[38;5;241m=\u001b[39m kwargs\u001b[38;5;241m.\u001b[39mpop(\u001b[38;5;124m'\u001b[39m\u001b[38;5;124mhasconst\u001b[39m\u001b[38;5;124m'\u001b[39m, \u001b[38;5;28;01mNone\u001b[39;00m)\n\u001b[1;32m---> 95\u001b[0m \u001b[38;5;28mself\u001b[39m\u001b[38;5;241m.\u001b[39mdata \u001b[38;5;241m=\u001b[39m \u001b[38;5;28mself\u001b[39m\u001b[38;5;241m.\u001b[39m_handle_data(endog, exog, missing, hasconst,\n\u001b[0;32m     96\u001b[0m                               \u001b[38;5;241m*\u001b[39m\u001b[38;5;241m*\u001b[39mkwargs)\n\u001b[0;32m     97\u001b[0m \u001b[38;5;28mself\u001b[39m\u001b[38;5;241m.\u001b[39mk_constant \u001b[38;5;241m=\u001b[39m \u001b[38;5;28mself\u001b[39m\u001b[38;5;241m.\u001b[39mdata\u001b[38;5;241m.\u001b[39mk_constant\n\u001b[0;32m     98\u001b[0m \u001b[38;5;28mself\u001b[39m\u001b[38;5;241m.\u001b[39mexog \u001b[38;5;241m=\u001b[39m \u001b[38;5;28mself\u001b[39m\u001b[38;5;241m.\u001b[39mdata\u001b[38;5;241m.\u001b[39mexog\n",
      "File \u001b[1;32mc:\\Anaconda 3\\Lib\\site-packages\\statsmodels\\base\\model.py:135\u001b[0m, in \u001b[0;36mModel._handle_data\u001b[1;34m(self, endog, exog, missing, hasconst, **kwargs)\u001b[0m\n\u001b[0;32m    134\u001b[0m \u001b[38;5;28;01mdef\u001b[39;00m \u001b[38;5;21m_handle_data\u001b[39m(\u001b[38;5;28mself\u001b[39m, endog, exog, missing, hasconst, \u001b[38;5;241m*\u001b[39m\u001b[38;5;241m*\u001b[39mkwargs):\n\u001b[1;32m--> 135\u001b[0m     data \u001b[38;5;241m=\u001b[39m handle_data(endog, exog, missing, hasconst, \u001b[38;5;241m*\u001b[39m\u001b[38;5;241m*\u001b[39mkwargs)\n\u001b[0;32m    136\u001b[0m     \u001b[38;5;66;03m# kwargs arrays could have changed, easier to just attach here\u001b[39;00m\n\u001b[0;32m    137\u001b[0m     \u001b[38;5;28;01mfor\u001b[39;00m key \u001b[38;5;129;01min\u001b[39;00m kwargs:\n",
      "File \u001b[1;32mc:\\Anaconda 3\\Lib\\site-packages\\statsmodels\\base\\data.py:675\u001b[0m, in \u001b[0;36mhandle_data\u001b[1;34m(endog, exog, missing, hasconst, **kwargs)\u001b[0m\n\u001b[0;32m    672\u001b[0m     exog \u001b[38;5;241m=\u001b[39m np\u001b[38;5;241m.\u001b[39masarray(exog)\n\u001b[0;32m    674\u001b[0m klass \u001b[38;5;241m=\u001b[39m handle_data_class_factory(endog, exog)\n\u001b[1;32m--> 675\u001b[0m \u001b[38;5;28;01mreturn\u001b[39;00m klass(endog, exog\u001b[38;5;241m=\u001b[39mexog, missing\u001b[38;5;241m=\u001b[39mmissing, hasconst\u001b[38;5;241m=\u001b[39mhasconst,\n\u001b[0;32m    676\u001b[0m              \u001b[38;5;241m*\u001b[39m\u001b[38;5;241m*\u001b[39mkwargs)\n",
      "File \u001b[1;32mc:\\Anaconda 3\\Lib\\site-packages\\statsmodels\\base\\data.py:84\u001b[0m, in \u001b[0;36mModelData.__init__\u001b[1;34m(self, endog, exog, missing, hasconst, **kwargs)\u001b[0m\n\u001b[0;32m     82\u001b[0m     \u001b[38;5;28mself\u001b[39m\u001b[38;5;241m.\u001b[39morig_endog \u001b[38;5;241m=\u001b[39m endog\n\u001b[0;32m     83\u001b[0m     \u001b[38;5;28mself\u001b[39m\u001b[38;5;241m.\u001b[39morig_exog \u001b[38;5;241m=\u001b[39m exog\n\u001b[1;32m---> 84\u001b[0m     \u001b[38;5;28mself\u001b[39m\u001b[38;5;241m.\u001b[39mendog, \u001b[38;5;28mself\u001b[39m\u001b[38;5;241m.\u001b[39mexog \u001b[38;5;241m=\u001b[39m \u001b[38;5;28mself\u001b[39m\u001b[38;5;241m.\u001b[39m_convert_endog_exog(endog, exog)\n\u001b[0;32m     86\u001b[0m \u001b[38;5;28mself\u001b[39m\u001b[38;5;241m.\u001b[39mconst_idx \u001b[38;5;241m=\u001b[39m \u001b[38;5;28;01mNone\u001b[39;00m\n\u001b[0;32m     87\u001b[0m \u001b[38;5;28mself\u001b[39m\u001b[38;5;241m.\u001b[39mk_constant \u001b[38;5;241m=\u001b[39m \u001b[38;5;241m0\u001b[39m\n",
      "File \u001b[1;32mc:\\Anaconda 3\\Lib\\site-packages\\statsmodels\\base\\data.py:509\u001b[0m, in \u001b[0;36mPandasData._convert_endog_exog\u001b[1;34m(self, endog, exog)\u001b[0m\n\u001b[0;32m    507\u001b[0m exog \u001b[38;5;241m=\u001b[39m exog \u001b[38;5;28;01mif\u001b[39;00m exog \u001b[38;5;129;01mis\u001b[39;00m \u001b[38;5;28;01mNone\u001b[39;00m \u001b[38;5;28;01melse\u001b[39;00m np\u001b[38;5;241m.\u001b[39masarray(exog)\n\u001b[0;32m    508\u001b[0m \u001b[38;5;28;01mif\u001b[39;00m endog\u001b[38;5;241m.\u001b[39mdtype \u001b[38;5;241m==\u001b[39m \u001b[38;5;28mobject\u001b[39m \u001b[38;5;129;01mor\u001b[39;00m exog \u001b[38;5;129;01mis\u001b[39;00m \u001b[38;5;129;01mnot\u001b[39;00m \u001b[38;5;28;01mNone\u001b[39;00m \u001b[38;5;129;01mand\u001b[39;00m exog\u001b[38;5;241m.\u001b[39mdtype \u001b[38;5;241m==\u001b[39m \u001b[38;5;28mobject\u001b[39m:\n\u001b[1;32m--> 509\u001b[0m     \u001b[38;5;28;01mraise\u001b[39;00m \u001b[38;5;167;01mValueError\u001b[39;00m(\u001b[38;5;124m\"\u001b[39m\u001b[38;5;124mPandas data cast to numpy dtype of object. \u001b[39m\u001b[38;5;124m\"\u001b[39m\n\u001b[0;32m    510\u001b[0m                      \u001b[38;5;124m\"\u001b[39m\u001b[38;5;124mCheck input data with np.asarray(data).\u001b[39m\u001b[38;5;124m\"\u001b[39m)\n\u001b[0;32m    511\u001b[0m \u001b[38;5;28;01mreturn\u001b[39;00m \u001b[38;5;28msuper\u001b[39m(PandasData, \u001b[38;5;28mself\u001b[39m)\u001b[38;5;241m.\u001b[39m_convert_endog_exog(endog, exog)\n",
      "\u001b[1;31mValueError\u001b[0m: Pandas data cast to numpy dtype of object. Check input data with np.asarray(data)."
     ]
    }
   ],
   "source": [
    "from statsmodels.miscmodels.ordinal_model import OrderedModel\n",
    "from pandas.api.types import CategoricalDtype\n",
    "## define y,x variable\n",
    "col_y = ['2.1 ในเดือนที่ผ่านมาท่านทานบุฟเฟต์ชาบูกี่ครั้ง']\n",
    "# col_y =[ '1.3 เพศ','1.4 อายุ', '1.5 รายได้เฉลี่ยต่อเดือน', '1.6 อาชีพ' ,'2.1 ในเดือนที่ผ่านมาท่านทานบุฟเฟต์ชาบูกี่ครั้ง','2.2 เหตุผลใดที่ทำให้ท่านเลือกที่จะรับประทานบุฟเฟต์ชาบู'\n",
    "#         ,'2.3 ส่วนใหญ่ท่านรับประทานบุฟเฟต์ชาบูกับใคร','2.4 โดยส่วนใหญ่ราคาบุฟเฟต์ชาบูต่อหัวที่ท่านเลือกรับประทานอยู่ที่เท่าไร']\n",
    "col_x =[ '1.3 เพศ','1.4 อายุ', '1.5 รายได้เฉลี่ยต่อเดือน', '1.6 อาชีพ']\n",
    "y = df[col_y]\n",
    "# y['2.1 ในเดือนที่ผ่านมาท่านทานบุฟเฟต์ชาบูกี่ครั้ง'].replace({'1 - 4 ครั้ง':1, 'มากกว่า 4 ครั้ง':2, 'ไม่ได้รับประทานเลย':0},inplace=True)\n",
    "x = df[col_x]\n",
    "cat_type = CategoricalDtype(categories=['ไม่ได้รับประทานเลย', '1 - 4 ครั้ง', 'มากกว่า 4 ครั้ง'], ordered=True)\n",
    "y['2.1 ในเดือนที่ผ่านมาท่านทานบุฟเฟต์ชาบูกี่ครั้ง'] = y['2.1 ในเดือนที่ผ่านมาท่านทานบุฟเฟต์ชาบูกี่ครั้ง'].astype(cat_type)\n",
    "# y = new_df[col_x]\n",
    "# x = new_df[col_y]\n",
    "# for clean data\n",
    "# y = pd.get_dummies(y,dtype=float)\n",
    "# y.drop(['1.1 ท่านเคยรับประทานบุปเฟต์ชาบูหรือไม่_ไม่เคย'],axis=1,inplace=True)\n",
    "# x = pd.get_dummies(x,dtype=float,drop_first=True)\n",
    "# # MNlogit model\n",
    "model = OrderedModel(y['2.1 ในเดือนที่ผ่านมาท่านทานบุฟเฟต์ชาบูกี่ครั้ง'], x,distr='logit')\n",
    "# result = model.fit()\n",
    "# print(result.summary())"
   ]
  }
 ],
 "metadata": {
  "kernelspec": {
   "display_name": "base",
   "language": "python",
   "name": "python3"
  },
  "language_info": {
   "codemirror_mode": {
    "name": "ipython",
    "version": 3
   },
   "file_extension": ".py",
   "mimetype": "text/x-python",
   "name": "python",
   "nbconvert_exporter": "python",
   "pygments_lexer": "ipython3",
   "version": "3.11.5"
  }
 },
 "nbformat": 4,
 "nbformat_minor": 2
}
